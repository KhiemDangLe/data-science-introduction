{
  "nbformat": 4,
  "nbformat_minor": 0,
  "metadata": {
    "colab": {
      "provenance": [],
      "authorship_tag": "ABX9TyMZ6oPJhLp8/rAvZS2SWLEu",
      "include_colab_link": true
    },
    "kernelspec": {
      "name": "python3",
      "display_name": "Python 3"
    },
    "language_info": {
      "name": "python"
    }
  },
  "cells": [
    {
      "cell_type": "markdown",
      "metadata": {
        "id": "view-in-github",
        "colab_type": "text"
      },
      "source": [
        "<a href=\"https://colab.research.google.com/github/KhiemDangLe/data-science-introduction/blob/main/finalcode.ipynb\" target=\"_parent\"><img src=\"https://colab.research.google.com/assets/colab-badge.svg\" alt=\"Open In Colab\"/></a>"
      ]
    },
    {
      "cell_type": "code",
      "execution_count": null,
      "metadata": {
        "id": "vW8SxLHMSM8E"
      },
      "outputs": [],
      "source": [
        "ádfádfládfj"
      ]
    },
    {
      "cell_type": "markdown",
      "source": [
        "ấdf"
      ],
      "metadata": {
        "id": "3xYHYrA0STvu"
      }
    },
    {
      "cell_type": "markdown",
      "source": [
        "ádfsadf"
      ],
      "metadata": {
        "id": "aVcObnaZSUMd"
      }
    },
    {
      "cell_type": "markdown",
      "source": [],
      "metadata": {
        "id": "RFfCU6Q5SUkd"
      }
    }
  ]
}